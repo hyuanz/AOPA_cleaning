{
 "cells": [
  {
   "cell_type": "code",
   "execution_count": 2,
   "id": "1a78fead-8c6b-40d9-ba04-5b28ce47fec3",
   "metadata": {},
   "outputs": [],
   "source": [
    "import pandas as pd\n",
    "import re"
   ]
  },
  {
   "cell_type": "code",
   "execution_count": 3,
   "id": "4004bb65-de95-4b3b-8cf0-1f0e5ff2614a",
   "metadata": {},
   "outputs": [],
   "source": [
    "from bs4 import BeautifulSoup\n",
    "\n",
    "with open('the2017report.html', 'r') as f:\n",
    "    contents = f.read()\n",
    "    soup = BeautifulSoup(contents, 'html.parser')"
   ]
  },
  {
   "cell_type": "code",
   "execution_count": 4,
   "id": "c85d380c-2321-49ce-8db0-765cc645e156",
   "metadata": {},
   "outputs": [
    {
     "name": "stdout",
     "output_type": "stream",
     "text": [
      "\n",
      "    CALIFORNIA\n",
      "190\n"
     ]
    }
   ],
   "source": [
    "print(soup.prettify().split('#231F20;\">')[5][:15])\n",
    "print(len(soup.prettify().split('#231F20;\">')[5].split('<p class=\"s1'))-1)"
   ]
  },
  {
   "cell_type": "code",
   "execution_count": 13,
   "id": "3fe91653-f76d-4806-9de0-ff9beec9e839",
   "metadata": {},
   "outputs": [
    {
     "data": {
      "text/plain": [
       "56"
      ]
     },
     "execution_count": 13,
     "metadata": {},
     "output_type": "execute_result"
    }
   ],
   "source": [
    "nums = len(soup.prettify().split('#231F20;\">'))\n",
    "nums"
   ]
  },
  {
   "cell_type": "code",
   "execution_count": 15,
   "id": "ec175fde-aed9-4290-bb0c-1504af0507c0",
   "metadata": {},
   "outputs": [
    {
     "data": {
      "text/plain": [
       "'\\n    SWEDEN\\n   '"
      ]
     },
     "execution_count": 15,
     "metadata": {},
     "output_type": "execute_result"
    }
   ],
   "source": [
    "soup.prettify().split('#231F20;\">')[nums-1][:15]"
   ]
  },
  {
   "cell_type": "code",
   "execution_count": 20,
   "id": "6ee9c1f6-e98c-4e60-b1a9-7e6d40f33841",
   "metadata": {},
   "outputs": [],
   "source": [
    "# soup.prettify().split('#231F20;\">')[0]"
   ]
  },
  {
   "cell_type": "code",
   "execution_count": 27,
   "id": "91a8c0ce-606d-4507-8c54-9962f51f0e43",
   "metadata": {
    "tags": []
   },
   "outputs": [],
   "source": [
    "sn = []\n",
    "for i in range(1,nums):\n",
    "    state_text = soup.prettify().split('#231F20;\">')[i][:15]\n",
    "    sta = state_text\n",
    "    num = len(soup.prettify().split('#231F20;\">')[i].split('<p class=\"s1'))-1\n",
    "    sn.append([sta, num])"
   ]
  },
  {
   "cell_type": "code",
   "execution_count": 38,
   "id": "ca3b85bf-683e-49e9-ab57-bcb3e70259c1",
   "metadata": {},
   "outputs": [
    {
     "data": {
      "text/html": [
       "<div>\n",
       "<style scoped>\n",
       "    .dataframe tbody tr th:only-of-type {\n",
       "        vertical-align: middle;\n",
       "    }\n",
       "\n",
       "    .dataframe tbody tr th {\n",
       "        vertical-align: top;\n",
       "    }\n",
       "\n",
       "    .dataframe thead th {\n",
       "        text-align: right;\n",
       "    }\n",
       "</style>\n",
       "<table border=\"1\" class=\"dataframe\">\n",
       "  <thead>\n",
       "    <tr style=\"text-align: right;\">\n",
       "      <th></th>\n",
       "      <th>\\n    ALASKA\\n</th>\n",
       "      <th>\\n    ALABAMA\\n</th>\n",
       "      <th>\\n    ARKANSAS\\n</th>\n",
       "      <th>\\n    ARIZONA\\n</th>\n",
       "      <th>\\n    CALIFORNIA</th>\n",
       "      <th>\\n    COLORADO\\n</th>\n",
       "      <th>\\n    CONNECTICU</th>\n",
       "      <th>\\n    DELAWARE\\n</th>\n",
       "      <th>\\n    FLORIDA\\n</th>\n",
       "      <th>\\n    GEORGIA\\n</th>\n",
       "      <th>...</th>\n",
       "      <th>\\n    WYOMING\\n</th>\n",
       "      <th>\\n    AUSTRALIA\\n</th>\n",
       "      <th>\\n    CANADA\\n</th>\n",
       "      <th>\\n    GERMANY\\n</th>\n",
       "      <th>\\n    GREAT BRIT</th>\n",
       "      <th>\\n    NORTH IREL</th>\n",
       "      <th>\\n    MEXICO\\n</th>\n",
       "      <th>\\n    PUERTO RIC</th>\n",
       "      <th>\\n    TAIWAN\\n</th>\n",
       "      <th>\\n    SWEDEN\\n</th>\n",
       "    </tr>\n",
       "  </thead>\n",
       "  <tbody>\n",
       "    <tr>\n",
       "      <th>1</th>\n",
       "      <td>5</td>\n",
       "      <td>20</td>\n",
       "      <td>53</td>\n",
       "      <td>31</td>\n",
       "      <td>190</td>\n",
       "      <td>46</td>\n",
       "      <td>35</td>\n",
       "      <td>18</td>\n",
       "      <td>112</td>\n",
       "      <td>84</td>\n",
       "      <td>...</td>\n",
       "      <td>12</td>\n",
       "      <td>1</td>\n",
       "      <td>3</td>\n",
       "      <td>9</td>\n",
       "      <td>0</td>\n",
       "      <td>1</td>\n",
       "      <td>2</td>\n",
       "      <td>1</td>\n",
       "      <td>4</td>\n",
       "      <td>3</td>\n",
       "    </tr>\n",
       "  </tbody>\n",
       "</table>\n",
       "<p>1 rows × 55 columns</p>\n",
       "</div>"
      ],
      "text/plain": [
       "0 \\n    ALASKA\\n    \\n    ALABAMA\\n   \\n    ARKANSAS\\n  \\n    ARIZONA\\n    \\\n",
       "1                 5                20                53                31   \n",
       "\n",
       "0 \\n    CALIFORNIA \\n    COLORADO\\n  \\n    CONNECTICU \\n    DELAWARE\\n   \\\n",
       "1              190                46               35                18   \n",
       "\n",
       "0 \\n    FLORIDA\\n   \\n    GEORGIA\\n    ... \\n    WYOMING\\n    \\\n",
       "1               112                84  ...                12   \n",
       "\n",
       "0 \\n    AUSTRALIA\\n \\n    CANADA\\n    \\n    GERMANY\\n   \\n    GREAT BRIT  \\\n",
       "1                 1                 3                 9                0   \n",
       "\n",
       "0 \\n    NORTH IREL \\n    MEXICO\\n    \\n    PUERTO RIC \\n    TAIWAN\\n     \\\n",
       "1                1                 2                1                 4   \n",
       "\n",
       "0 \\n    SWEDEN\\n     \n",
       "1                 3  \n",
       "\n",
       "[1 rows x 55 columns]"
      ]
     },
     "execution_count": 38,
     "metadata": {},
     "output_type": "execute_result"
    }
   ],
   "source": [
    "df_state = pd.DataFrame(sn).T\n",
    "df_state.columns = df_state.iloc[0]\n",
    "df_state = df_state[1:]\n",
    "df_state"
   ]
  },
  {
   "cell_type": "code",
   "execution_count": null,
   "id": "94bbaae4-7fd0-454c-8ce4-ea1e5d2d8c19",
   "metadata": {},
   "outputs": [],
   "source": []
  },
  {
   "cell_type": "markdown",
   "id": "9e603023-43bc-433b-bdd6-79dee3cf5f45",
   "metadata": {},
   "source": [
    "**loop**"
   ]
  },
  {
   "cell_type": "code",
   "execution_count": 27,
   "id": "01c80215-a0f8-4527-a37a-73f1775dfd43",
   "metadata": {},
   "outputs": [],
   "source": [
    "res = []\n",
    "for j in range(calilen):\n",
    "    cl = soup.prettify().split('#231F20;\">')[5].split('<p class=\"s1')[j].split('</p>\\n')\n",
    "    row = [extract_all_content_between_newlines(c) for c in cl]\n",
    "    processed_values = [process_data(value) if value.startswith('<a') else value for value in row]\n",
    "    flattened_list = flatten_list(processed_values)\n",
    "    row_c1 = [remove_closing_angle_brackets(c1) for c1 in flattened_list]\n",
    "    res.append(row_c1)"
   ]
  },
  {
   "cell_type": "code",
   "execution_count": 28,
   "id": "7544b4a4-ae73-4c22-a7b1-2ef68a0bb3f2",
   "metadata": {},
   "outputs": [
    {
     "data": {
      "text/plain": [
       "190"
      ]
     },
     "execution_count": 28,
     "metadata": {},
     "output_type": "execute_result"
    }
   ],
   "source": [
    "len(res)"
   ]
  },
  {
   "cell_type": "code",
   "execution_count": 29,
   "id": "83a7073c-d9df-47af-9c61-53cd629e0ce5",
   "metadata": {},
   "outputs": [],
   "source": [
    "df = pd.DataFrame(res)"
   ]
  },
  {
   "cell_type": "code",
   "execution_count": 30,
   "id": "a5eabe31-09dd-4853-b737-937f93aa5824",
   "metadata": {},
   "outputs": [],
   "source": [
    "# df"
   ]
  },
  {
   "cell_type": "code",
   "execution_count": 31,
   "id": "3d268e92-133b-457a-a58c-f58e2d386d9c",
   "metadata": {},
   "outputs": [],
   "source": [
    "df.to_excel('aopa_cali.xlsx',index=False)"
   ]
  },
  {
   "cell_type": "markdown",
   "id": "984661db-d1fa-48b7-b44d-365318b3c6ba",
   "metadata": {},
   "source": [
    "**trouble-shooting**"
   ]
  },
  {
   "cell_type": "code",
   "execution_count": null,
   "id": "37562b28-2540-4a01-97ad-bb373bfb31b0",
   "metadata": {},
   "outputs": [],
   "source": []
  }
 ],
 "metadata": {
  "kernelspec": {
   "display_name": "Python 3 (ipykernel)",
   "language": "python",
   "name": "python3"
  },
  "language_info": {
   "codemirror_mode": {
    "name": "ipython",
    "version": 3
   },
   "file_extension": ".py",
   "mimetype": "text/x-python",
   "name": "python",
   "nbconvert_exporter": "python",
   "pygments_lexer": "ipython3",
   "version": "3.9.15"
  }
 },
 "nbformat": 4,
 "nbformat_minor": 5
}
