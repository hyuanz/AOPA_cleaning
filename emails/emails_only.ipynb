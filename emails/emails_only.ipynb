{
 "cells": [
  {
   "cell_type": "code",
   "execution_count": 1,
   "id": "97f8098f-eeb1-4c9f-84f8-1ba332cdd48e",
   "metadata": {},
   "outputs": [],
   "source": [
    "# import re\n",
    "\n",
    "# m = re.search('<a class=\"a\" href=\"mailto:', contents)"
   ]
  },
  {
   "cell_type": "code",
   "execution_count": 2,
   "id": "bd498b6d-377f-4386-a1cd-62448f863d9e",
   "metadata": {},
   "outputs": [],
   "source": [
    "import pandas as pd"
   ]
  },
  {
   "cell_type": "code",
   "execution_count": 2,
   "id": "97cd8f68-a8c7-425b-ac70-01f39e505072",
   "metadata": {},
   "outputs": [],
   "source": [
    "from bs4 import BeautifulSoup\n",
    "\n",
    "with open('the2017report.html', 'r') as f:\n",
    "    contents = f.read()\n",
    "    soup = BeautifulSoup(contents, 'html.parser')"
   ]
  },
  {
   "cell_type": "code",
   "execution_count": 3,
   "id": "6df84db3-9438-4bf5-984f-a52209d8307d",
   "metadata": {},
   "outputs": [
    {
     "data": {
      "text/plain": [
       "1338"
      ]
     },
     "execution_count": 3,
     "metadata": {},
     "output_type": "execute_result"
    }
   ],
   "source": [
    "len(contents.split('a href=\"mailto:'))"
   ]
  },
  {
   "cell_type": "code",
   "execution_count": 3,
   "id": "6b9ae31b-70a4-4768-b2a8-4f01f7264d78",
   "metadata": {
    "tags": []
   },
   "outputs": [],
   "source": [
    "# contents"
   ]
  },
  {
   "cell_type": "code",
   "execution_count": 4,
   "id": "6392ed43-8187-4539-9409-ec8cf6c06ed4",
   "metadata": {},
   "outputs": [],
   "source": [
    "spans = soup.find_all('p', {'class' : 's1'})"
   ]
  },
  {
   "cell_type": "code",
   "execution_count": 5,
   "id": "1de35399-c0a7-4af2-a237-de510c1783ff",
   "metadata": {},
   "outputs": [],
   "source": [
    "names = [span.get_text() for span in spans]"
   ]
  },
  {
   "cell_type": "code",
   "execution_count": 6,
   "id": "e18f246a-8107-4f22-bbbe-90621503a601",
   "metadata": {},
   "outputs": [
    {
     "data": {
      "text/plain": [
       "2098"
      ]
     },
     "execution_count": 6,
     "metadata": {},
     "output_type": "execute_result"
    }
   ],
   "source": [
    "len(names)"
   ]
  },
  {
   "cell_type": "code",
   "execution_count": 7,
   "id": "f8f17e97-a29c-48eb-9987-31bb9dad1f82",
   "metadata": {},
   "outputs": [],
   "source": [
    "anchors = soup.find_all('a', href=re.compile(\"mailto:\"))"
   ]
  },
  {
   "cell_type": "code",
   "execution_count": 76,
   "id": "65793428-39c0-42fd-95dd-a582bd354354",
   "metadata": {},
   "outputs": [],
   "source": [
    "emails = [anchor.get_text() for anchor in anchors]"
   ]
  },
  {
   "cell_type": "code",
   "execution_count": 77,
   "id": "3360047c-c61d-4b1c-b4a3-26bd9d8904f0",
   "metadata": {},
   "outputs": [
    {
     "data": {
      "text/plain": [
       "1337"
      ]
     },
     "execution_count": 77,
     "metadata": {},
     "output_type": "execute_result"
    }
   ],
   "source": [
    "len(anchors)"
   ]
  },
  {
   "cell_type": "code",
   "execution_count": 78,
   "id": "eca595f5-347d-4083-8959-e853d8df2c54",
   "metadata": {},
   "outputs": [
    {
     "data": {
      "text/plain": [
       "['northo@northo.',\n",
       " 'ask@alchemyak.',\n",
       " 'michellemmpo@gmail.',\n",
       " 'ask@alchemyak.',\n",
       " 'northo@northo.',\n",
       " 'eseisenberg@msn.',\n",
       " 'Tbrewer@uabmc.',\n",
       " 'info@aalos.',\n",
       " 'willis@dothanbraceshop.',\n",
       " 'info@fourroux.']"
      ]
     },
     "execution_count": 78,
     "metadata": {},
     "output_type": "execute_result"
    }
   ],
   "source": [
    "emails[:10]"
   ]
  },
  {
   "cell_type": "code",
   "execution_count": 82,
   "id": "045957b2-b388-4d41-8676-1239daa7cb1d",
   "metadata": {
    "tags": []
   },
   "outputs": [
    {
     "name": "stdout",
     "output_type": "stream",
     "text": [
      "staffstaff\n",
      "fficemail.jmehlhaff\n"
     ]
    }
   ],
   "source": [
    "for e in emails:\n",
    "    if \"@\" not in e:\n",
    "        print(e)"
   ]
  },
  {
   "cell_type": "code",
   "execution_count": 80,
   "id": "1c4d832a-34d9-4cc9-b4b0-e9a5d6b75514",
   "metadata": {},
   "outputs": [],
   "source": [
    "for i in range(len(emails)-3):\n",
    "    if \"@\" not in emails[i]:\n",
    "        j = emails[i] + emails[i+1]\n",
    "        if \"@\" not in j:\n",
    "            j = j + emails[i+2]\n",
    "            if \"@\" not in j:\n",
    "                j = j + emails[i+3]\n",
    "                emails[i] = j\n",
    "                emails[i+1] = j\n",
    "                emails[i+2] = j\n",
    "                emails[i+3] = j  \n",
    "            emails[i] = j\n",
    "            emails[i+1] = j\n",
    "            emails[i+2] = j\n",
    "        emails[i] = j\n",
    "        emails[i+1] = j"
   ]
  },
  {
   "cell_type": "code",
   "execution_count": 103,
   "id": "6f4ffb30-7190-44eb-ac04-aa7349a49e2a",
   "metadata": {
    "tags": []
   },
   "outputs": [],
   "source": [
    "list1 = [e + \"com\" for e in emails]"
   ]
  },
  {
   "cell_type": "code",
   "execution_count": 124,
   "id": "3d584319-b815-4c9b-a68d-cad562feb63f",
   "metadata": {},
   "outputs": [],
   "source": [
    "output = []\n",
    "for x in list1:\n",
    "    if x not in output:\n",
    "        output.append(x)\n",
    "# print(output)"
   ]
  },
  {
   "cell_type": "code",
   "execution_count": 125,
   "id": "cd4084ab-74c8-43a3-9cb5-b16335f15d20",
   "metadata": {},
   "outputs": [
    {
     "name": "stdout",
     "output_type": "stream",
     "text": [
      "diablop-jmehlhaff@pacmedical.\n",
      "breakmail@nobbeorthopedics.\n",
      "delmarva.op@verizon.net\n",
      " sonlife@tampabay.rr.com\n",
      " llong@toengesshoes.com\n",
      "jesse.amy@astepaheadonline.\n",
      "staffstaff\n",
      "staffstaffstaffstaffstaffstaff@bayothopedic.\n",
      " os1023@aol.com\n",
      " lcrawford@capitalprosthetics.net\n",
      "ffeyop.tlittlefield@cranialtech.\n",
      "totalo-totalo-gordon.stevens@bak\n",
      " excel@excel-prosthetics.com\n",
      "fficemail.jmehlhaff\n",
      "fficemail.jmehlhafffficemail.jmehlhafffficemail.jmehlhaff@pacmedical.\n",
      "g.g.ghomolka.aaron@marshfieldclinic.\n"
     ]
    }
   ],
   "source": [
    "for i in range(len(output)):\n",
    "    if output[i] not in contents:\n",
    "        p = output[i][:-3]\n",
    "        if p not in contents:\n",
    "            print(p)\n",
    "        output[i] = p"
   ]
  },
  {
   "cell_type": "code",
   "execution_count": 4,
   "id": "e050da55-29da-4e57-a75f-f3391e5cc401",
   "metadata": {
    "tags": []
   },
   "outputs": [],
   "source": [
    "for i in range(len(output)):\n",
    "    if \".com\" not in output[i]:\n",
    "        if \".net\" not in output[i]:\n",
    "            if \".edu\" not in output[i]:\n",
    "                print(output[i])"
   ]
  },
  {
   "cell_type": "code",
   "execution_count": 109,
   "id": "930cd795-d0ad-4d04-ace4-73eb79bdd999",
   "metadata": {},
   "outputs": [],
   "source": [
    "df = pd.DataFrame(output, columns=[\"emails\"])"
   ]
  },
  {
   "cell_type": "code",
   "execution_count": 110,
   "id": "b8c09032-4955-4349-bd4c-8b793a403e0d",
   "metadata": {},
   "outputs": [],
   "source": [
    "df.to_excel('emails.xlsx',index=False)"
   ]
  },
  {
   "cell_type": "code",
   "execution_count": 143,
   "id": "ba3722a5-49cc-4c02-9712-2b29f6abb476",
   "metadata": {},
   "outputs": [],
   "source": [
    "dd = pd.read_excel('emails.xlsx')"
   ]
  },
  {
   "cell_type": "code",
   "execution_count": 144,
   "id": "d1588d8b-2d13-4118-b0a6-99827ff1a7b7",
   "metadata": {},
   "outputs": [],
   "source": [
    "o = dd[\"emails\"]"
   ]
  },
  {
   "cell_type": "code",
   "execution_count": 146,
   "id": "b6a10257-342e-40bc-9e94-0eb46dbc51fa",
   "metadata": {},
   "outputs": [
    {
     "name": "stdout",
     "output_type": "stream",
     "text": [
      "['emails']\n"
     ]
    }
   ],
   "source": [
    "output = []\n",
    "for x in dd:\n",
    "    if x not in output:\n",
    "        output.append(x)\n",
    "print(output)"
   ]
  },
  {
   "cell_type": "code",
   "execution_count": 147,
   "id": "8374e289-1612-4c44-af0d-2fce3533adbf",
   "metadata": {},
   "outputs": [],
   "source": [
    "dd.to_csv('email.csv', index = False)"
   ]
  }
 ],
 "metadata": {
  "kernelspec": {
   "display_name": "Python 3 (ipykernel)",
   "language": "python",
   "name": "python3"
  },
  "language_info": {
   "codemirror_mode": {
    "name": "ipython",
    "version": 3
   },
   "file_extension": ".py",
   "mimetype": "text/x-python",
   "name": "python",
   "nbconvert_exporter": "python",
   "pygments_lexer": "ipython3",
   "version": "3.9.15"
  }
 },
 "nbformat": 4,
 "nbformat_minor": 5
}
