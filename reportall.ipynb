{
 "cells": [
  {
   "cell_type": "code",
   "execution_count": 137,
   "id": "1a78fead-8c6b-40d9-ba04-5b28ce47fec3",
   "metadata": {},
   "outputs": [],
   "source": [
    "import pandas as pd"
   ]
  },
  {
   "cell_type": "code",
   "execution_count": 138,
   "id": "4004bb65-de95-4b3b-8cf0-1f0e5ff2614a",
   "metadata": {},
   "outputs": [],
   "source": [
    "from bs4 import BeautifulSoup\n",
    "\n",
    "with open('report2017.html', 'r') as f:\n",
    "    contents = f.read()\n",
    "    soup = BeautifulSoup(contents, 'html.parser')"
   ]
  },
  {
   "cell_type": "code",
   "execution_count": 139,
   "id": "c85d380c-2321-49ce-8db0-765cc645e156",
   "metadata": {},
   "outputs": [
    {
     "name": "stdout",
     "output_type": "stream",
     "text": [
      "\n",
      "    CALIFORNIA\n",
      "190\n"
     ]
    }
   ],
   "source": [
    "print(soup.prettify().split('#231F20;\">')[5][:15])\n",
    "print(len(soup.prettify().split('#231F20;\">')[5].split('<p class=\"s1'))-1)"
   ]
  },
  {
   "cell_type": "code",
   "execution_count": 140,
   "id": "d1fb9e75-5cdd-4fd4-b42f-c567cffa13ac",
   "metadata": {},
   "outputs": [],
   "source": [
    "calilen = len(soup.prettify().split('#231F20;\">')[5].split('<p class=\"s1'))-1"
   ]
  },
  {
   "cell_type": "markdown",
   "id": "7de77f0b-fdad-43c9-a692-141c2c5c55e2",
   "metadata": {},
   "source": [
    "**test round**"
   ]
  },
  {
   "cell_type": "code",
   "execution_count": 141,
   "id": "e9706103-673b-4562-b5aa-cee800e00c74",
   "metadata": {},
   "outputs": [],
   "source": [
    "for i in range(1,2):\n",
    "    textbox = soup.prettify().split('#231F20;\">')[5].split('<p class=\"s1')[i].split('</p>\\n')"
   ]
  },
  {
   "cell_type": "code",
   "execution_count": 142,
   "id": "fe30059e-d0b9-4660-b110-604892a214fe",
   "metadata": {},
   "outputs": [
    {
     "data": {
      "text/plain": [
       "['\" style=\"padding-top: 6pt;padding-left: 11pt;text-indent: 0pt;line-height: 94%;text-align: left;\">\\n   Molina Orthopedic Labs Inc./dba Crown City Orthopedic\\n   <span class=\"s2\">\\n    C\\n   </span>\\n  ',\n",
       " '  <p style=\"padding-left: 11pt;text-indent: 0pt;line-height: 7pt;text-align: left;\">\\n   610 N Santa Anita Ave, Ste 100\\n  ',\n",
       " '  <p style=\"padding-left: 11pt;text-indent: 0pt;text-align: left;\">\\n   Arcadia\\n   <span class=\"s6\">\\n    ,\\n   </span>\\n   CA 91006\\n  ',\n",
       " '  <p style=\"padding-left: 11pt;text-indent: 0pt;text-align: left;\">\\n   (626) 431-2890\\n  ',\n",
       " '  <p style=\"padding-left: 11pt;text-indent: 0pt;text-align: left;\">\\n   Fax (626) 431-2892\\n  ',\n",
       " '  <p style=\"padding-left: 11pt;text-indent: 0pt;line-height: 9pt;text-align: left;\">\\n   <a href=\"mailto:ryan@crowncityortho.com\">\\n    ryan@crowncityortho.com\\n   </a>\\n  ',\n",
       " '  ']"
      ]
     },
     "execution_count": 142,
     "metadata": {},
     "output_type": "execute_result"
    }
   ],
   "source": [
    "textbox"
   ]
  },
  {
   "cell_type": "code",
   "execution_count": 143,
   "id": "d30f6056-42fa-4ca8-9b1d-a91977fefbb1",
   "metadata": {},
   "outputs": [
    {
     "name": "stdout",
     "output_type": "stream",
     "text": [
      "Combined extracted content:\n",
      " Molina Orthopedic Labs Inc./dba Crown City Orthopedic\n",
      "C\n"
     ]
    }
   ],
   "source": [
    "def extract_and_combine_content_between_newlines(text):\n",
    "    contents = []\n",
    "    start_index = 0\n",
    "\n",
    "    while True:\n",
    "        start_index = text.find('\\n', start_index)\n",
    "        if start_index == -1:\n",
    "            break\n",
    "\n",
    "        end_index = text.find('\\n', start_index + 1)\n",
    "        if end_index == -1:\n",
    "            break\n",
    "\n",
    "        content_between_newlines = text[start_index + 1:end_index].strip()\n",
    "        contents.append(content_between_newlines)\n",
    "        \n",
    "        start_index = end_index + 1  # Move the start_index to the next character after the second '\\n'\n",
    "\n",
    "    # Combine the extracted contents into a single string\n",
    "    combined_contents = \"\\n\".join(contents)\n",
    "\n",
    "    return combined_contents\n",
    "\n",
    "# Example usage:\n",
    "line_of_text = textbox[0]\n",
    "combined_content = extract_and_combine_content_between_newlines(line_of_text)\n",
    "\n",
    "if combined_content:\n",
    "    print(\"Combined extracted content:\\n\", combined_content)\n",
    "else:\n",
    "    print(\"No content found between newlines in the line of text.\")"
   ]
  },
  {
   "cell_type": "code",
   "execution_count": 144,
   "id": "9fa7b818-bf12-447e-8a22-0686d179011a",
   "metadata": {},
   "outputs": [
    {
     "data": {
      "text/plain": [
       "'Molina Orthopedic Labs Inc./dba Crown City Orthopedic\\nC'"
      ]
     },
     "execution_count": 144,
     "metadata": {},
     "output_type": "execute_result"
    }
   ],
   "source": [
    "combined_content"
   ]
  },
  {
   "cell_type": "markdown",
   "id": "9e603023-43bc-433b-bdd6-79dee3cf5f45",
   "metadata": {},
   "source": [
    "**loop**"
   ]
  },
  {
   "cell_type": "code",
   "execution_count": 145,
   "id": "01c80215-a0f8-4527-a37a-73f1775dfd43",
   "metadata": {},
   "outputs": [],
   "source": [
    "res = []\n",
    "for j in range(calilen):\n",
    "    cl = soup.prettify().split('#231F20;\">')[5].split('<p class=\"s1')[j].split('</p>\\n')\n",
    "    row = [extract_and_combine_content_between_newlines(c) for c in cl]\n",
    "    res.append(row)"
   ]
  },
  {
   "cell_type": "code",
   "execution_count": 146,
   "id": "7544b4a4-ae73-4c22-a7b1-2ef68a0bb3f2",
   "metadata": {},
   "outputs": [
    {
     "data": {
      "text/plain": [
       "190"
      ]
     },
     "execution_count": 146,
     "metadata": {},
     "output_type": "execute_result"
    }
   ],
   "source": [
    "len(res)"
   ]
  },
  {
   "cell_type": "code",
   "execution_count": 147,
   "id": "83a7073c-d9df-47af-9c61-53cd629e0ce5",
   "metadata": {},
   "outputs": [],
   "source": [
    "df = pd.DataFrame(res)"
   ]
  },
  {
   "cell_type": "code",
   "execution_count": 148,
   "id": "3d268e92-133b-457a-a58c-f58e2d386d9c",
   "metadata": {},
   "outputs": [],
   "source": [
    "df.to_excel('aopa_cali.xlsx',index=False)"
   ]
  },
  {
   "cell_type": "markdown",
   "id": "984661db-d1fa-48b7-b44d-365318b3c6ba",
   "metadata": {},
   "source": [
    "**trouble-shooting**"
   ]
  },
  {
   "cell_type": "code",
   "execution_count": 128,
   "id": "76c310bd-1608-458c-a6f7-891b0ae90670",
   "metadata": {},
   "outputs": [],
   "source": [
    "for i in range(15,16):\n",
    "    textbox = soup.prettify().split('#231F20;\">')[5].split('<p class=\"s1')[i].split('</p>\\n')"
   ]
  },
  {
   "cell_type": "code",
   "execution_count": 129,
   "id": "48cd6571-81ed-454e-a6a6-b510e59c0342",
   "metadata": {},
   "outputs": [
    {
     "data": {
      "text/plain": [
       "['\" style=\"padding-left: 14pt;text-indent: 0pt;line-height: 83%;text-align: left;\">\\n   Human Designs Prosthetic &amp; Orthotic Laboratory Inc.\\n   <span class=\"s2\">\\n    ❹\\n   </span>\\n   <span class=\"p\">\\n    49 E Foothill Blvd\\n   </span>\\n  ',\n",
       " '  <p style=\"padding-left: 14pt;text-indent: 0pt;text-align: left;\">\\n   Arcadia\\n   <span class=\"s6\">\\n    ,\\n   </span>\\n   CA 91006-2870\\n  ',\n",
       " '  <p style=\"padding-left: 13pt;text-indent: 0pt;text-align: left;\">\\n   (866) 988-2414\\n  ',\n",
       " '  <p style=\"padding-left: 13pt;text-indent: 0pt;text-align: left;\">\\n   (626) 445-7797\\n  ',\n",
       " '  <p style=\"padding-left: 13pt;text-indent: 0pt;text-align: left;\">\\n   Fax (626) 445-7873\\n  ',\n",
       " '  <p style=\"padding-left: 14pt;text-indent: 0pt;text-align: left;\">\\n   <a class=\"a\" href=\"mailto:info@humandesigns.com\" target=\"_blank\">\\n    info@humandesigns.\\n   </a>\\n   <a class=\"a\" href=\"http://www.humandesigns.com/\" target=\"_blank\">\\n    com www.humandesigns.\\n   </a>\\n   com\\n   <span class=\"s5\">\\n    Eric A. Ferraco, CPO, President\\n   </span>\\n  ',\n",
       " '  <p class=\"s5\" style=\"padding-left: 14pt;text-indent: 0pt;text-align: left;\">\\n   Sofia Avila, Certified Mastectomy Chris DeLeon, CFo\\n  ',\n",
       " '  <p style=\"text-indent: 0pt;text-align: left;\">\\n   <br/>\\n  ',\n",
       " '  <h2 style=\"padding-left: 13pt;text-indent: 0pt;text-align: left;\">\\n   ATASCADERO\\n  </h2>\\n  ']"
      ]
     },
     "execution_count": 129,
     "metadata": {},
     "output_type": "execute_result"
    }
   ],
   "source": [
    "textbox"
   ]
  },
  {
   "cell_type": "code",
   "execution_count": 132,
   "id": "79eefafb-485f-49da-aa74-b8ff02e0eefb",
   "metadata": {},
   "outputs": [
    {
     "name": "stdout",
     "output_type": "stream",
     "text": [
      "Combined extracted content:\n",
      " <a class=\"a\" href=\"mailto:info@humandesigns.com\" target=\"_blank\">\n",
      "</a>\n",
      "com www.humandesigns.\n",
      "com\n",
      "Eric A. Ferraco, CPO, President\n"
     ]
    }
   ],
   "source": [
    "line_of_text = textbox[5]\n",
    "combined_content = extract_and_combine_content_between_newlines(line_of_text)\n",
    "\n",
    "if combined_content:\n",
    "    print(\"Combined extracted content:\\n\", combined_content)\n",
    "else:\n",
    "    print(\"No content found between newlines in the line of text.\")"
   ]
  },
  {
   "cell_type": "code",
   "execution_count": 133,
   "id": "687211c8-6eb5-494e-9390-73e775eb9051",
   "metadata": {},
   "outputs": [
    {
     "data": {
      "text/plain": [
       "'<a class=\"a\" href=\"mailto:info@humandesigns.com\" target=\"_blank\">\\n</a>\\ncom www.humandesigns.\\ncom\\nEric A. Ferraco, CPO, President'"
      ]
     },
     "execution_count": 133,
     "metadata": {},
     "output_type": "execute_result"
    }
   ],
   "source": [
    "combined_content"
   ]
  },
  {
   "cell_type": "code",
   "execution_count": 151,
   "id": "7a0f95a5-eccb-40a8-bad6-f258380dfabb",
   "metadata": {},
   "outputs": [],
   "source": [
    "res = []\n",
    "for j in range(15,16):\n",
    "    cl = soup.prettify().split('#231F20;\">')[5].split('<p class=\"s1')[j].split('</p>\\n')\n",
    "    row = [extract_and_combine_content_between_newlines(c) for c in cl]\n",
    "    res.append(row)"
   ]
  },
  {
   "cell_type": "code",
   "execution_count": 152,
   "id": "b5f76af0-7b12-407a-899e-2b33e184038b",
   "metadata": {},
   "outputs": [
    {
     "data": {
      "text/plain": [
       "[['Hanger Clinic\\n❹',\n",
       "  '4920 E Speedway Blvd',\n",
       "  'Tucson\\n,\\nAZ 85712',\n",
       "  '(520) 322-0099',\n",
       "  'Fax (520) 325-9755',\n",
       "  '<a href=\"http://www.hanger.com/\">\\n</a>',\n",
       "  '']]"
      ]
     },
     "execution_count": 152,
     "metadata": {},
     "output_type": "execute_result"
    }
   ],
   "source": [
    "res"
   ]
  },
  {
   "cell_type": "markdown",
   "id": "f828f163-fa07-44a3-8d1a-e4752d45843d",
   "metadata": {},
   "source": [
    "**html patterns**"
   ]
  },
  {
   "cell_type": "code",
   "execution_count": 29,
   "id": "e7b953c4-af6e-490c-8e7c-abed56fadcdb",
   "metadata": {
    "tags": []
   },
   "outputs": [],
   "source": [
    "# soup.prettify().split('#231F20;\">')[5].split('<p class=\"s1')"
   ]
  },
  {
   "cell_type": "code",
   "execution_count": 88,
   "id": "696fa890-2216-4682-9045-ca43a44b4776",
   "metadata": {},
   "outputs": [],
   "source": [
    "# soup.prettify().split('#231F20;\">') #state names\n",
    "# soup.prettify().split('<h2 style=\"') #city names\n",
    "# soup.prettify().split('<p class=\"s1') #clinic names\n",
    "# soup.prettify().split('</p>\\n')[1] #each line"
   ]
  },
  {
   "cell_type": "code",
   "execution_count": 89,
   "id": "d2bcadc5-e1fb-4f71-a47f-8e883d6bb202",
   "metadata": {},
   "outputs": [
    {
     "data": {
      "text/plain": [
       "'dy {vertical-align: top; overflow: visible; }\\n</style></head><body><p style=\"padding-top: 9pt;padding-left: 14pt;text-indent: 0pt;text-align: left;\"><span class=\"h1\" style=\" background-color: #231F20;\">      ALASKA    </span></p><p style=\"text-indent: 0pt;text-align: left;\"><br/></p><h2 style=\"padding-bottom: 2pt;padding-left: 14pt;text-indent: 0pt;text-align: left;\">ANCHORAGE</h2><p style=\"padding-left: 14pt;text-indent: 0pt;line-height: 1pt;text-align: left;\"/><p class=\"s1\" style=\"padding-top: 3pt;padding-left: 14pt;text-indent: 0pt;line-height: 16pt;text-align: left;\">Northern Orthopedics Inc. <span class=\"s2\">C</span></p><p style=\"padding-left: 14pt;text-indent: 0pt;line-height: 8pt;text-align: left;\">3400 LaTouche St, Ste 100</p><p class=\"s3\" style=\"padding-left: 14pt;text-indent: 0pt;text-align: left;\">Anchorage, <span class=\"s4\">AK 99508-4208</span></p><p style=\"padding-left: 14pt;text-indent: 0pt;text-align: left;\">(907) 561-4385</p><p style=\"padding-left: 14pt;text-indent: 0pt;text-align: left;\">(907) 561-1777</p><p style=\"padding-left: 14pt;text-indent: 0pt;text-align: left;\">Fax (907) 561-2157</p><p style=\"padding-left: 14pt;text-indent: 0pt;text-align: left;\"><a href=\"m'"
      ]
     },
     "execution_count": 89,
     "metadata": {},
     "output_type": "execute_result"
    }
   ],
   "source": [
    "contents[6800:8000]"
   ]
  },
  {
   "cell_type": "markdown",
   "id": "cd928236-59e0-45fd-a955-bb9638971d06",
   "metadata": {},
   "source": [
    "**make it into df**"
   ]
  },
  {
   "cell_type": "code",
   "execution_count": 55,
   "id": "f83b0835-78a5-4e5e-abf4-ab95ef5b1a45",
   "metadata": {},
   "outputs": [],
   "source": [
    "# source = urllib.request.urlopen('http://www.gcoins.net/en/catalog/view/45518').read()\n",
    "# soup = BeautifulSoup(source, \"html.parser\")\n",
    "# table = soup.find('table', attrs={'class':'subs noBorders evenRows'})"
   ]
  },
  {
   "cell_type": "code",
   "execution_count": 56,
   "id": "e78e9b34-7336-459f-9984-269d7df12710",
   "metadata": {},
   "outputs": [],
   "source": [
    "# table_rows = table.find_all('tr')\n",
    "\n",
    "# res = []\n",
    "# for tr in table_rows:\n",
    "#     td = tr.find_all('td')\n",
    "#     row = [tr.text.strip() for tr in td if tr.text.strip()]\n",
    "#     if row:\n",
    "#         res.append(row)"
   ]
  },
  {
   "cell_type": "code",
   "execution_count": null,
   "id": "bed375f2-3a2a-46e0-a2d9-db4c74d0667e",
   "metadata": {},
   "outputs": [],
   "source": [
    "# l = []\n",
    "# for tr in table_rows:\n",
    "#     td = tr.find_all('td')\n",
    "#     row = [tr.text for tr in td]\n",
    "#     l.append(row)\n",
    "# pd.DataFrame(l, columns=[\"A\", \"B\", ...])"
   ]
  }
 ],
 "metadata": {
  "kernelspec": {
   "display_name": "Python 3 (ipykernel)",
   "language": "python",
   "name": "python3"
  },
  "language_info": {
   "codemirror_mode": {
    "name": "ipython",
    "version": 3
   },
   "file_extension": ".py",
   "mimetype": "text/x-python",
   "name": "python",
   "nbconvert_exporter": "python",
   "pygments_lexer": "ipython3",
   "version": "3.9.15"
  }
 },
 "nbformat": 4,
 "nbformat_minor": 5
}
